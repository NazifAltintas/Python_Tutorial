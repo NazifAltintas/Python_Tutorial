{
 "cells": [
  {
   "cell_type": "code",
   "execution_count": null,
   "metadata": {},
   "outputs": [],
   "source": [
    "for i in range(1,101):\n",
    "    if i %3 == 0 and i%5 != 0:\n",
    "        print (\"Fizz\")\n",
    "    elif i %5 == 0 and i%3 != 0:\n",
    "        print (\"Buzz\")\n",
    "    elif i %3 == 0 and i%5 == 0:\n",
    "        print (\"FizzBuzz\")\n",
    "    else:\n",
    "        print (i)"
   ]
  }
 ],
 "metadata": {
  "kernelspec": {
   "display_name": "Python 3",
   "language": "python",
   "name": "python3"
  },
  "language_info": {
   "codemirror_mode": {
    "name": "ipython",
    "version": 3
   },
   "file_extension": ".py",
   "mimetype": "text/x-python",
   "name": "python",
   "nbconvert_exporter": "python",
   "pygments_lexer": "ipython3",
   "version": "3.11.0 (main, Oct 24 2022, 18:26:48) [MSC v.1933 64 bit (AMD64)]"
  },
  "orig_nbformat": 4,
  "vscode": {
   "interpreter": {
    "hash": "242a720b361e831ffe7544c8abddb961bcc6bde5332986f95b61db2494ca2dd7"
   }
  }
 },
 "nbformat": 4,
 "nbformat_minor": 2
}
