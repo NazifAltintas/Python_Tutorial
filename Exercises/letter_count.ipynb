{
 "cells": [
  {
   "attachments": {},
   "cell_type": "markdown",
   "metadata": {},
   "source": [
    "Count the number of each letter in a sentence. The department you work for undertook a project construction that makes word / text analysis. You are asked to calculate the number of letters or any chars in the sentences entered under this project. Write a Python program that; takes a sentence from the user, counts the number of each letter/chars of the sentence, collects the letters/chars as a key and the counted numbers as a value in a dictionary."
   ]
  },
  {
   "cell_type": "code",
   "execution_count": null,
   "metadata": {},
   "outputs": [],
   "source": [
    "mydict={}\n",
    "sentence=(\"hippo runs to us!\")\n",
    "for i in (sentence):\n",
    "    mydict[i]=sentence.count(i)\n",
    "print(mydict)"
   ]
  }
 ],
 "metadata": {
  "language_info": {
   "name": "python"
  },
  "orig_nbformat": 4
 },
 "nbformat": 4,
 "nbformat_minor": 2
}
